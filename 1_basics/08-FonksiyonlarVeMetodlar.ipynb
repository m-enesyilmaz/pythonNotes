{
 "cells": [
  {
   "cell_type": "code",
   "execution_count": 1,
   "id": "711b96c7",
   "metadata": {},
   "outputs": [],
   "source": [
    "benimAdım = \"Muhammed Enes Yılmaz\""
   ]
  },
  {
   "cell_type": "code",
   "execution_count": 2,
   "id": "bbbfd6e5",
   "metadata": {},
   "outputs": [
    {
     "data": {
      "text/plain": [
       "'MUHAMMED ENES YILMAZ'"
      ]
     },
     "execution_count": 2,
     "metadata": {},
     "output_type": "execute_result"
    }
   ],
   "source": [
    "benimAdım.upper()"
   ]
  },
  {
   "cell_type": "code",
   "execution_count": 3,
   "id": "19cc5ea7",
   "metadata": {},
   "outputs": [
    {
     "data": {
      "text/plain": [
       "'Muhammed Enes Yılmaz'"
      ]
     },
     "execution_count": 3,
     "metadata": {},
     "output_type": "execute_result"
    }
   ],
   "source": [
    "benimAdım # burada görüleceği üzere bir değişiklik yok"
   ]
  },
  {
   "cell_type": "code",
   "execution_count": 4,
   "id": "3291f960",
   "metadata": {},
   "outputs": [],
   "source": [
    "# değişiklik saklansın istersek bir değişkene eşitlememiz gerekiyor"
   ]
  },
  {
   "cell_type": "code",
   "execution_count": 5,
   "id": "2dd134bd",
   "metadata": {},
   "outputs": [],
   "source": [
    "def ilkFonksiyon():\n",
    "    print(\"ilk fonksiyonum\")"
   ]
  },
  {
   "cell_type": "code",
   "execution_count": 6,
   "id": "9c70810b",
   "metadata": {},
   "outputs": [
    {
     "name": "stdout",
     "output_type": "stream",
     "text": [
      "ilk fonksiyonum\n"
     ]
    }
   ],
   "source": [
    "ilkFonksiyon()"
   ]
  },
  {
   "cell_type": "markdown",
   "id": "b178eaa3",
   "metadata": {},
   "source": [
    "## input and return"
   ]
  },
  {
   "cell_type": "code",
   "execution_count": 7,
   "id": "072297f2",
   "metadata": {},
   "outputs": [],
   "source": [
    "def merhabaDunya(yazdirilacakIsım):\n",
    "    print(\"merhaba\")\n",
    "    print(yazdirilacakIsım)"
   ]
  },
  {
   "cell_type": "code",
   "execution_count": 8,
   "id": "67667f4a",
   "metadata": {},
   "outputs": [
    {
     "name": "stdout",
     "output_type": "stream",
     "text": [
      "merhaba\n",
      "Enes\n"
     ]
    }
   ],
   "source": [
    "merhabaDunya(\"Enes\")"
   ]
  },
  {
   "cell_type": "code",
   "execution_count": 9,
   "id": "18bbfb2f",
   "metadata": {},
   "outputs": [],
   "source": [
    "def merhaba(isim = \"enes\"):\n",
    "    print(\"merhaba\" + \" \" + isim)"
   ]
  },
  {
   "cell_type": "code",
   "execution_count": 10,
   "id": "fc361a55",
   "metadata": {},
   "outputs": [
    {
     "name": "stdout",
     "output_type": "stream",
     "text": [
      "merhaba enes\n"
     ]
    }
   ],
   "source": [
    "merhaba()"
   ]
  },
  {
   "cell_type": "code",
   "execution_count": 11,
   "id": "71f76479",
   "metadata": {},
   "outputs": [
    {
     "name": "stdout",
     "output_type": "stream",
     "text": [
      "merhaba python\n"
     ]
    }
   ],
   "source": [
    "merhaba(\"python\")"
   ]
  },
  {
   "cell_type": "code",
   "execution_count": 12,
   "id": "64759233",
   "metadata": {},
   "outputs": [],
   "source": [
    "def toplama(numara1, numara2):\n",
    "    sonuc = numara1 + numara2\n",
    "    print(sonuc)"
   ]
  },
  {
   "cell_type": "code",
   "execution_count": 13,
   "id": "d599f18e",
   "metadata": {},
   "outputs": [
    {
     "name": "stdout",
     "output_type": "stream",
     "text": [
      "30\n"
     ]
    }
   ],
   "source": [
    "toplama(10,20)"
   ]
  },
  {
   "cell_type": "code",
   "execution_count": 14,
   "id": "345d906b",
   "metadata": {},
   "outputs": [],
   "source": [
    "def dondurmeliToplama(num1,num2):\n",
    "    return num1 + num2"
   ]
  },
  {
   "cell_type": "code",
   "execution_count": 15,
   "id": "d2076984",
   "metadata": {},
   "outputs": [],
   "source": [
    "yeniSonuc = dondurmeliToplama(12,41)"
   ]
  },
  {
   "cell_type": "code",
   "execution_count": 16,
   "id": "5a915cd8",
   "metadata": {},
   "outputs": [
    {
     "data": {
      "text/plain": [
       "int"
      ]
     },
     "execution_count": 16,
     "metadata": {},
     "output_type": "execute_result"
    }
   ],
   "source": [
    "type(yeniSonuc)"
   ]
  },
  {
   "cell_type": "code",
   "execution_count": 17,
   "id": "066aed0c",
   "metadata": {},
   "outputs": [],
   "source": [
    "def kontrolFonksiyon(s):\n",
    "    if s == \"enes\":\n",
    "        print(\"verdiğiniz string enes\")\n",
    "    else:\n",
    "        print(\"verdiğiniz string başka bir şey\")"
   ]
  },
  {
   "cell_type": "code",
   "execution_count": 18,
   "id": "c56d4b0f",
   "metadata": {},
   "outputs": [
    {
     "name": "stdout",
     "output_type": "stream",
     "text": [
      "verdiğiniz string başka bir şey\n"
     ]
    }
   ],
   "source": [
    "kontrolFonksiyon(\"yılmaz\")"
   ]
  },
  {
   "cell_type": "markdown",
   "id": "b80e1a16",
   "metadata": {},
   "source": [
    "## args & kwargs"
   ]
  },
  {
   "cell_type": "code",
   "execution_count": 19,
   "id": "a1c6fd4d",
   "metadata": {},
   "outputs": [],
   "source": [
    "# argümanlar ve key word (anahtar kelime) argümanları"
   ]
  },
  {
   "cell_type": "code",
   "execution_count": 20,
   "id": "a51130d1",
   "metadata": {},
   "outputs": [],
   "source": [
    "def yeniToplama(*args):\n",
    "    return sum(args)"
   ]
  },
  {
   "cell_type": "code",
   "execution_count": 21,
   "id": "a6195cb3",
   "metadata": {},
   "outputs": [
    {
     "data": {
      "text/plain": [
       "2591"
      ]
     },
     "execution_count": 21,
     "metadata": {},
     "output_type": "execute_result"
    }
   ],
   "source": [
    "yeniToplama(12,14,15,15,2412,123) # bu şekilde olduğunda istediğimiz kadar argümanı gönderebiliyoruz"
   ]
  },
  {
   "cell_type": "code",
   "execution_count": 22,
   "id": "a59a9ef5",
   "metadata": {},
   "outputs": [],
   "source": [
    "def benimFonksiyonum(*args):\n",
    "    print(args)"
   ]
  },
  {
   "cell_type": "code",
   "execution_count": 23,
   "id": "787fb00f",
   "metadata": {},
   "outputs": [
    {
     "name": "stdout",
     "output_type": "stream",
     "text": [
      "(20, 34, 64)\n"
     ]
    }
   ],
   "source": [
    "benimFonksiyonum(20,34,64)"
   ]
  },
  {
   "cell_type": "code",
   "execution_count": 24,
   "id": "10a26932",
   "metadata": {},
   "outputs": [
    {
     "name": "stdout",
     "output_type": "stream",
     "text": [
      "(20, 34, 64)\n"
     ]
    },
    {
     "data": {
      "text/plain": [
       "NoneType"
      ]
     },
     "execution_count": 24,
     "metadata": {},
     "output_type": "execute_result"
    }
   ],
   "source": [
    "type(benimFonksiyonum(20,34,64))"
   ]
  },
  {
   "cell_type": "code",
   "execution_count": 25,
   "id": "cdbabcd4",
   "metadata": {},
   "outputs": [],
   "source": [
    "# eğer fonksiyonda return dersek bize sonucu bir tuple olarak döndürecek"
   ]
  },
  {
   "cell_type": "code",
   "execution_count": 26,
   "id": "3b31913d",
   "metadata": {},
   "outputs": [],
   "source": [
    "def ornekFonksiyon(**kwargs):\n",
    "    print(kwargs)"
   ]
  },
  {
   "cell_type": "code",
   "execution_count": 27,
   "id": "67ae0c74",
   "metadata": {},
   "outputs": [
    {
     "name": "stdout",
     "output_type": "stream",
     "text": [
      "{'muz': 100, 'elma': 200, 'ananas': 300}\n"
     ]
    }
   ],
   "source": [
    "ornekFonksiyon(muz = 100, elma = 200, ananas = 300)"
   ]
  },
  {
   "cell_type": "code",
   "execution_count": 28,
   "id": "cbaf1cb8",
   "metadata": {},
   "outputs": [
    {
     "name": "stdout",
     "output_type": "stream",
     "text": [
      "{'muz': 100, 'elma': 200, 'ananas': 300}\n"
     ]
    },
    {
     "data": {
      "text/plain": [
       "NoneType"
      ]
     },
     "execution_count": 28,
     "metadata": {},
     "output_type": "execute_result"
    }
   ],
   "source": [
    "type(ornekFonksiyon(muz = 100, elma = 200, ananas = 300))"
   ]
  },
  {
   "cell_type": "code",
   "execution_count": 29,
   "id": "3d60405e",
   "metadata": {},
   "outputs": [],
   "source": [
    "# burada return dersek type olark dict döndürür"
   ]
  },
  {
   "cell_type": "code",
   "execution_count": 30,
   "id": "5c89b793",
   "metadata": {},
   "outputs": [],
   "source": [
    "def keyWordKontrolu(**kwargs):\n",
    "    if \"enes\" in kwargs:\n",
    "        print(\"içlerinde enes var\")\n",
    "    else:\n",
    "        print(\"içlerinde enes yok\")"
   ]
  },
  {
   "cell_type": "code",
   "execution_count": 31,
   "id": "3e92cb10",
   "metadata": {},
   "outputs": [
    {
     "name": "stdout",
     "output_type": "stream",
     "text": [
      "içlerinde enes var\n"
     ]
    }
   ],
   "source": [
    "keyWordKontrolu(enes = 26, furki = 23, laHo = 31)"
   ]
  },
  {
   "cell_type": "code",
   "execution_count": null,
   "id": "274aceaf",
   "metadata": {},
   "outputs": [],
   "source": []
  }
 ],
 "metadata": {
  "kernelspec": {
   "display_name": "Python 3 (ipykernel)",
   "language": "python",
   "name": "python3"
  },
  "language_info": {
   "codemirror_mode": {
    "name": "ipython",
    "version": 3
   },
   "file_extension": ".py",
   "mimetype": "text/x-python",
   "name": "python",
   "nbconvert_exporter": "python",
   "pygments_lexer": "ipython3",
   "version": "3.9.12"
  }
 },
 "nbformat": 4,
 "nbformat_minor": 5
}
