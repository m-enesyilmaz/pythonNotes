{
 "cells": [
  {
   "cell_type": "markdown",
   "id": "f273b78b",
   "metadata": {},
   "source": [
    "## For döngüsü"
   ]
  },
  {
   "cell_type": "code",
   "execution_count": 1,
   "id": "85a3d16f",
   "metadata": {},
   "outputs": [],
   "source": [
    "benimListem = [10,20,30,40,50]"
   ]
  },
  {
   "cell_type": "code",
   "execution_count": null,
   "id": "f3a62672",
   "metadata": {},
   "outputs": [],
   "source": []
  },
  {
   "cell_type": "code",
   "execution_count": 2,
   "id": "7a36d428",
   "metadata": {
    "scrolled": true
   },
   "outputs": [
    {
     "name": "stdout",
     "output_type": "stream",
     "text": [
      "16.666666666666668\n",
      "33.333333333333336\n",
      "50.0\n",
      "66.66666666666667\n",
      "83.33333333333333\n"
     ]
    }
   ],
   "source": [
    "for numara in benimListem:\n",
    "    print(numara *5 / 3)"
   ]
  },
  {
   "cell_type": "code",
   "execution_count": 3,
   "id": "722bee7e",
   "metadata": {},
   "outputs": [],
   "source": [
    "yeniListe = [1,2,3,4,5,6,7,8,9,10,12,14]"
   ]
  },
  {
   "cell_type": "code",
   "execution_count": 4,
   "id": "b5b52c1c",
   "metadata": {},
   "outputs": [
    {
     "name": "stdout",
     "output_type": "stream",
     "text": [
      "(-) 2'ye bölünemeyen: 1\n",
      "(+) 2'ye bölünebilen: 2\n",
      "(-) 2'ye bölünemeyen: 3\n",
      "(+) 2'ye bölünebilen: 4\n",
      "(-) 2'ye bölünemeyen: 5\n",
      "(+) 2'ye bölünebilen: 6\n",
      "(-) 2'ye bölünemeyen: 7\n",
      "(+) 2'ye bölünebilen: 8\n",
      "(-) 2'ye bölünemeyen: 9\n",
      "(+) 2'ye bölünebilen: 10\n",
      "(+) 2'ye bölünebilen: 12\n",
      "(+) 2'ye bölünebilen: 14\n"
     ]
    }
   ],
   "source": [
    "for num in yeniListe:\n",
    "    if num % 2 == 0:\n",
    "        print(\"(+) 2'ye bölünebilen:\",num)\n",
    "    else:\n",
    "        print(\"(-) 2'ye bölünemeyen:\",num)"
   ]
  },
  {
   "cell_type": "code",
   "execution_count": 5,
   "id": "6742f580",
   "metadata": {},
   "outputs": [],
   "source": [
    "yeniString = \"Muhammed Enes Yılmaz\""
   ]
  },
  {
   "cell_type": "code",
   "execution_count": 6,
   "id": "94c81453",
   "metadata": {},
   "outputs": [
    {
     "name": "stdout",
     "output_type": "stream",
     "text": [
      "M\n",
      "u\n",
      "h\n",
      "a\n",
      "m\n",
      "m\n",
      "e\n",
      "d\n",
      " \n",
      "E\n",
      "n\n",
      "e\n",
      "s\n",
      " \n",
      "Y\n",
      "ı\n",
      "l\n",
      "m\n",
      "a\n",
      "z\n"
     ]
    }
   ],
   "source": [
    "for harf in yeniString:\n",
    "    print(harf)"
   ]
  },
  {
   "cell_type": "code",
   "execution_count": 7,
   "id": "d0c2985c",
   "metadata": {},
   "outputs": [],
   "source": [
    "benimTuple = (1,2,3,4,5)"
   ]
  },
  {
   "cell_type": "code",
   "execution_count": 8,
   "id": "d580810f",
   "metadata": {},
   "outputs": [
    {
     "name": "stdout",
     "output_type": "stream",
     "text": [
      "-9\n",
      "-8\n",
      "-7\n",
      "-6\n",
      "-5\n"
     ]
    }
   ],
   "source": [
    "for eleman in benimTuple:\n",
    "    print(eleman -10)"
   ]
  },
  {
   "cell_type": "code",
   "execution_count": 9,
   "id": "114f1d5e",
   "metadata": {},
   "outputs": [],
   "source": [
    "koordinatListesi = [(10.2,15.2), (32.4,16.2), (40.3,20.9)]"
   ]
  },
  {
   "cell_type": "code",
   "execution_count": 10,
   "id": "98aa8f55",
   "metadata": {},
   "outputs": [
    {
     "name": "stdout",
     "output_type": "stream",
     "text": [
      "(10.2, 15.2)\n",
      "(32.4, 16.2)\n",
      "(40.3, 20.9)\n"
     ]
    }
   ],
   "source": [
    "for eleman in koordinatListesi:\n",
    "    print(eleman)"
   ]
  },
  {
   "cell_type": "code",
   "execution_count": 11,
   "id": "3927cd4f",
   "metadata": {},
   "outputs": [
    {
     "name": "stdout",
     "output_type": "stream",
     "text": [
      "10.2\n",
      "32.4\n",
      "40.3\n"
     ]
    }
   ],
   "source": [
    "for (x,y) in koordinatListesi:\n",
    "    print(x)"
   ]
  },
  {
   "cell_type": "code",
   "execution_count": 12,
   "id": "c73ffe8c",
   "metadata": {},
   "outputs": [],
   "source": [
    "tuhafListe = [(1,2,3), (4,5,6), (7,8,9)]"
   ]
  },
  {
   "cell_type": "code",
   "execution_count": 13,
   "id": "32861396",
   "metadata": {},
   "outputs": [
    {
     "name": "stdout",
     "output_type": "stream",
     "text": [
      "3\n",
      "6\n",
      "9\n"
     ]
    }
   ],
   "source": [
    "for (x,y,z) in tuhafListe:\n",
    "    print(z)"
   ]
  },
  {
   "cell_type": "code",
   "execution_count": 14,
   "id": "f9ec9c0d",
   "metadata": {},
   "outputs": [],
   "source": [
    "benimSozluk = {\"muz\": 150, \"elma\": 340, \"portakal\": 240}"
   ]
  },
  {
   "cell_type": "code",
   "execution_count": 15,
   "id": "bbcc0bb5",
   "metadata": {},
   "outputs": [
    {
     "data": {
      "text/plain": [
       "dict_items([('muz', 150), ('elma', 340), ('portakal', 240)])"
      ]
     },
     "execution_count": 15,
     "metadata": {},
     "output_type": "execute_result"
    }
   ],
   "source": [
    "benimSozluk.items()"
   ]
  },
  {
   "cell_type": "code",
   "execution_count": 16,
   "id": "fd35e263",
   "metadata": {},
   "outputs": [
    {
     "name": "stdout",
     "output_type": "stream",
     "text": [
      "muz\n",
      "elma\n",
      "portakal\n"
     ]
    }
   ],
   "source": [
    "for (keys, values) in benimSozluk.items():\n",
    "    print(keys)"
   ]
  },
  {
   "cell_type": "markdown",
   "id": "d6a7c95e",
   "metadata": {},
   "source": [
    "## Continue Break Pass"
   ]
  },
  {
   "cell_type": "code",
   "execution_count": 17,
   "id": "79a55457",
   "metadata": {},
   "outputs": [],
   "source": [
    "listem_1 = [5,10,15,20,25,30]"
   ]
  },
  {
   "cell_type": "code",
   "execution_count": 18,
   "id": "ad8f3388",
   "metadata": {},
   "outputs": [
    {
     "name": "stdout",
     "output_type": "stream",
     "text": [
      "5\n",
      "10\n"
     ]
    }
   ],
   "source": [
    "for i in listem_1:\n",
    "    if i == 15:\n",
    "        break\n",
    "    print(i)"
   ]
  },
  {
   "cell_type": "code",
   "execution_count": 19,
   "id": "441a25b9",
   "metadata": {},
   "outputs": [
    {
     "name": "stdout",
     "output_type": "stream",
     "text": [
      "5\n",
      "10\n",
      "20\n",
      "25\n",
      "30\n"
     ]
    }
   ],
   "source": [
    "for i in listem_1:\n",
    "    if i == 15:\n",
    "        continue\n",
    "    print(i)"
   ]
  },
  {
   "cell_type": "code",
   "execution_count": 20,
   "id": "c820c615",
   "metadata": {},
   "outputs": [],
   "source": [
    "for i in listem_1:\n",
    "    pass"
   ]
  },
  {
   "cell_type": "markdown",
   "id": "d99102d2",
   "metadata": {},
   "source": [
    "## While Döngüsü"
   ]
  },
  {
   "cell_type": "code",
   "execution_count": 21,
   "id": "12e20732",
   "metadata": {},
   "outputs": [
    {
     "name": "stdout",
     "output_type": "stream",
     "text": [
      "0\n",
      "1\n",
      "2\n",
      "3\n",
      "4\n",
      "5\n",
      "6\n",
      "7\n",
      "8\n",
      "9\n"
     ]
    }
   ],
   "source": [
    "x = 0\n",
    "while x < 10:\n",
    "    print(x)\n",
    "    x = x + 1"
   ]
  },
  {
   "cell_type": "code",
   "execution_count": 22,
   "id": "2ee921c2",
   "metadata": {},
   "outputs": [],
   "source": [
    "listem_2 = [1,2,3,4,5]"
   ]
  },
  {
   "cell_type": "code",
   "execution_count": 23,
   "id": "0f5c48c5",
   "metadata": {},
   "outputs": [
    {
     "data": {
      "text/plain": [
       "5"
      ]
     },
     "execution_count": 23,
     "metadata": {},
     "output_type": "execute_result"
    }
   ],
   "source": [
    "listem_2.pop()"
   ]
  },
  {
   "cell_type": "code",
   "execution_count": 24,
   "id": "40431a33",
   "metadata": {},
   "outputs": [],
   "source": [
    "listem_2.append(5)"
   ]
  },
  {
   "cell_type": "code",
   "execution_count": 25,
   "id": "5043baa9",
   "metadata": {},
   "outputs": [
    {
     "name": "stdout",
     "output_type": "stream",
     "text": [
      "3 hala listenin içinde\n",
      "3 hala listenin içinde\n",
      "3 hala listenin içinde\n"
     ]
    }
   ],
   "source": [
    "while 3 in listem_2:\n",
    "    print(\"3 hala listenin içinde\")\n",
    "    listem_2.pop()"
   ]
  },
  {
   "cell_type": "code",
   "execution_count": 26,
   "id": "6bd9cf2d",
   "metadata": {},
   "outputs": [],
   "source": [
    "numara = 0"
   ]
  },
  {
   "cell_type": "code",
   "execution_count": 27,
   "id": "9e74519a",
   "metadata": {},
   "outputs": [
    {
     "name": "stdout",
     "output_type": "stream",
     "text": [
      "0\n",
      "1\n",
      "2\n",
      "3\n"
     ]
    }
   ],
   "source": [
    "while numara < 5:\n",
    "    if numara == 4:\n",
    "        break\n",
    "    print(numara)\n",
    "    numara = numara + 1"
   ]
  },
  {
   "cell_type": "code",
   "execution_count": null,
   "id": "e0a7d1d5",
   "metadata": {},
   "outputs": [],
   "source": []
  },
  {
   "cell_type": "code",
   "execution_count": 28,
   "id": "b6a5635a",
   "metadata": {},
   "outputs": [
    {
     "name": "stdout",
     "output_type": "stream",
     "text": [
      "Yeni değişkenin güncel değeri: 0\n",
      "Yeni değişkenin güncel değeri: 1\n",
      "Yeni değişkenin güncel değeri: 2\n",
      "Yeni değişkenin güncel değeri: 3\n",
      "Yeni değişkenin güncel değeri: 4\n",
      "Yeni değişkenin güncel değeri: 5\n",
      "Yeni değişkenin güncel değeri: 6\n",
      "Yeni değişkenin güncel değeri: 7\n",
      "Yeni değişkenin güncel değeri: 8\n",
      "Yeni değişkenin güncel değeri: 9\n",
      "Yeni değişkenin güncel değeri: 10\n",
      "Yeni değişkenin güncel değeri: 11\n",
      "Yeni değişkenin güncel değeri: 12\n",
      "Yeni değişkenin güncel değeri: 13\n",
      "Yeni değişkenin güncel değeri: 14\n"
     ]
    }
   ],
   "source": [
    "yeniDegisken = 0\n",
    "while yeniDegisken < 15:\n",
    "    print(\"Yeni değişkenin güncel değeri:\",yeniDegisken)\n",
    "    yeniDegisken = yeniDegisken + 1"
   ]
  },
  {
   "cell_type": "code",
   "execution_count": 29,
   "id": "0696f446",
   "metadata": {},
   "outputs": [
    {
     "name": "stdout",
     "output_type": "stream",
     "text": [
      "Yeni değişkenin güncel değeri: 0\n",
      "Yeni değişkenin güncel değeri: 1\n",
      "Yeni değişkenin güncel değeri: 2\n",
      "Yeni değişkenin güncel değeri: 3\n",
      "Yeni değişkenin güncel değeri: 4\n",
      "Yeni değişkenin güncel değeri: 5\n",
      "Yeni değişkenin güncel değeri: 6\n",
      "Yeni değişkenin güncel değeri: 7\n",
      "Yeni değişkenin güncel değeri: 8\n",
      "Yeni değişkenin güncel değeri: 9\n",
      "Yeni değişkenin güncel değeri: 10\n",
      "Yeni değişkenin güncel değeri: 11\n",
      "Yeni değişkenin güncel değeri: 12\n",
      "Yeni değişkenin güncel değeri: 13\n",
      "Yeni değişkenin güncel değeri: 14\n"
     ]
    }
   ],
   "source": [
    "yeniDegisken = 0\n",
    "while yeniDegisken < 15:\n",
    "    print(f\"Yeni değişkenin güncel değeri: {yeniDegisken}\")\n",
    "    # bu şekilde bir kullanım daha yaygın olarak tercih ediliyormuş\n",
    "    yeniDegisken = yeniDegisken + 1"
   ]
  },
  {
   "cell_type": "code",
   "execution_count": null,
   "id": "aa406bf8",
   "metadata": {},
   "outputs": [],
   "source": []
  }
 ],
 "metadata": {
  "kernelspec": {
   "display_name": "Python 3 (ipykernel)",
   "language": "python",
   "name": "python3"
  },
  "language_info": {
   "codemirror_mode": {
    "name": "ipython",
    "version": 3
   },
   "file_extension": ".py",
   "mimetype": "text/x-python",
   "name": "python",
   "nbconvert_exporter": "python",
   "pygments_lexer": "ipython3",
   "version": "3.9.12"
  }
 },
 "nbformat": 4,
 "nbformat_minor": 5
}
