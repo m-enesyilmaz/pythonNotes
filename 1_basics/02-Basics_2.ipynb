{
 "cells": [
  {
   "cell_type": "markdown",
   "id": "8ed1048c",
   "metadata": {},
   "source": [
    "## Sözlükler"
   ]
  },
  {
   "cell_type": "markdown",
   "id": "b556f284",
   "metadata": {},
   "source": [
    "### Key-value pairing (anahtar kelime - değer eşleşmesi)"
   ]
  },
  {
   "cell_type": "code",
   "execution_count": 1,
   "id": "431caf2f",
   "metadata": {},
   "outputs": [],
   "source": [
    "benimYemekler = [\"elma\", \"karpuz\", \"muz\"]"
   ]
  },
  {
   "cell_type": "code",
   "execution_count": 2,
   "id": "0b7a574b",
   "metadata": {},
   "outputs": [],
   "source": [
    "benimKalorilerim = [100,200,300]"
   ]
  },
  {
   "cell_type": "code",
   "execution_count": 3,
   "id": "50b1d7c7",
   "metadata": {},
   "outputs": [],
   "source": [
    "# dictionary"
   ]
  },
  {
   "cell_type": "code",
   "execution_count": 4,
   "id": "43e35140",
   "metadata": {},
   "outputs": [],
   "source": [
    "benimSozluk = {\"anahtarKelime\" : \"deger\"}"
   ]
  },
  {
   "cell_type": "code",
   "execution_count": 5,
   "id": "740e1933",
   "metadata": {},
   "outputs": [
    {
     "data": {
      "text/plain": [
       "dict"
      ]
     },
     "execution_count": 5,
     "metadata": {},
     "output_type": "execute_result"
    }
   ],
   "source": [
    "type(benimSozluk)"
   ]
  },
  {
   "cell_type": "code",
   "execution_count": 6,
   "id": "12880554",
   "metadata": {},
   "outputs": [
    {
     "data": {
      "text/plain": [
       "{'elma': 100, 'karpuz': 200, 'muz': 300}"
      ]
     },
     "execution_count": 6,
     "metadata": {},
     "output_type": "execute_result"
    }
   ],
   "source": [
    "benimYemekKaloriSozlugum = {\"elma\": 100, \"karpuz\": 200, \"muz\":300}\n",
    "benimYemekKaloriSozlugum"
   ]
  },
  {
   "cell_type": "code",
   "execution_count": 7,
   "id": "614df736",
   "metadata": {},
   "outputs": [
    {
     "data": {
      "text/plain": [
       "{'elma': 200, 'karpuz': 200, 'muz': 300}"
      ]
     },
     "execution_count": 7,
     "metadata": {},
     "output_type": "execute_result"
    }
   ],
   "source": [
    "# eğer içindeki değeri değiştimek istersek:\n",
    "benimYemekKaloriSozlugum[\"elma\"] = 200\n",
    "benimYemekKaloriSozlugum"
   ]
  },
  {
   "cell_type": "code",
   "execution_count": 8,
   "id": "4c6ba35d",
   "metadata": {},
   "outputs": [],
   "source": [
    "yeniDictonary = {\"anahtar1\": 100, \"anahtar2\": [10,20,30,40,4.5,\"enes\"], 26 : \"yasim\", \"anahtar3\": {\"anahtar9\": 4}}"
   ]
  },
  {
   "cell_type": "code",
   "execution_count": 9,
   "id": "f5a1a65c",
   "metadata": {},
   "outputs": [],
   "source": [
    "# burada görüldüğü gibi dictionary içine istediğimizi ekleyebiliyoruz."
   ]
  },
  {
   "cell_type": "code",
   "execution_count": 10,
   "id": "be08b38a",
   "metadata": {},
   "outputs": [
    {
     "name": "stdout",
     "output_type": "stream",
     "text": [
      "enes\n",
      "4\n"
     ]
    }
   ],
   "source": [
    "istenileniAlma1 = yeniDictonary[\"anahtar2\"][5]\n",
    "# ya da yeniDictionary[\"anahtar2\"][-1]\n",
    "istenileniAlma2 = yeniDictonary[\"anahtar3\"][\"anahtar9\"]\n",
    "print(istenileniAlma1)\n",
    "print(istenileniAlma2)"
   ]
  },
  {
   "cell_type": "code",
   "execution_count": null,
   "id": "7937de97",
   "metadata": {},
   "outputs": [],
   "source": []
  }
 ],
 "metadata": {
  "kernelspec": {
   "display_name": "Python 3 (ipykernel)",
   "language": "python",
   "name": "python3"
  },
  "language_info": {
   "codemirror_mode": {
    "name": "ipython",
    "version": 3
   },
   "file_extension": ".py",
   "mimetype": "text/x-python",
   "name": "python",
   "nbconvert_exporter": "python",
   "pygments_lexer": "ipython3",
   "version": "3.9.12"
  }
 },
 "nbformat": 4,
 "nbformat_minor": 5
}
