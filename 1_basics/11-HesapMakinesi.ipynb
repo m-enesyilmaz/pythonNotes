{
 "cells": [
  {
   "cell_type": "code",
   "execution_count": null,
   "id": "51352855",
   "metadata": {},
   "outputs": [
    {
     "name": "stdout",
     "output_type": "stream",
     "text": [
      "İlk sayıyı giriniz: 12\n",
      "ikinci sayıyı giriniz: 13\n",
      "Yapmak istediğimiz işlemi seçiniz: (+ - * /): /\n",
      "12 / 13 = 0.9230769230769231\n",
      "İlk sayıyı giriniz: 12\n",
      "ikinci sayıyı giriniz: ene\n",
      "Lütfen sayıları düzgün giriniz!\n",
      "Lütfen sayıları düzgün giriniz!\n"
     ]
    }
   ],
   "source": [
    "def hesapla(a,b, islem):\n",
    "    if islem not in \"+-*/\":\n",
    "        return \"LÜtfen matematiksel işlemi seçiniz!\"\n",
    "    \n",
    "    if islem == \"+\":\n",
    "        return (str(a) + \" + \" +str(b) + \" = \" + str(a+b))\n",
    "    if islem == \"-\":\n",
    "        return (str(a) + \" - \" +str(b) + \" = \" + str(a-b))\n",
    "    if islem == \"*\":\n",
    "        return (str(a) + \" * \" +str(b) + \" = \" + str(a*b))\n",
    "    if islem == \"/\":\n",
    "        return (str(a) + \" / \" +str(b) + \" = \" + str(a/b))\n",
    "while True:\n",
    "    try:\n",
    "        a = int(input(\"İlk sayıyı giriniz: \"))\n",
    "        b = int(input(\"ikinci sayıyı giriniz: \"))\n",
    "        islem = input(\"Yapmak istediğimiz işlemi seçiniz: (+ - * /): \")\n",
    "        print(hesapla(a,b,islem))\n",
    "    except:\n",
    "        print(\"Lütfen sayıları düzgün giriniz!\")\n"
   ]
  },
  {
   "cell_type": "code",
   "execution_count": null,
   "id": "39015475",
   "metadata": {},
   "outputs": [],
   "source": []
  }
 ],
 "metadata": {
  "kernelspec": {
   "display_name": "Python 3 (ipykernel)",
   "language": "python",
   "name": "python3"
  },
  "language_info": {
   "codemirror_mode": {
    "name": "ipython",
    "version": 3
   },
   "file_extension": ".py",
   "mimetype": "text/x-python",
   "name": "python",
   "nbconvert_exporter": "python",
   "pygments_lexer": "ipython3",
   "version": "3.9.12"
  }
 },
 "nbformat": 4,
 "nbformat_minor": 5
}
