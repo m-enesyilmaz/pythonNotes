{
 "cells": [
  {
   "cell_type": "markdown",
   "id": "9693d743",
   "metadata": {},
   "source": [
    "## scope"
   ]
  },
  {
   "cell_type": "code",
   "execution_count": 1,
   "id": "58221336",
   "metadata": {},
   "outputs": [],
   "source": [
    "numara = 20\n",
    "def carpma(rakam):\n",
    "    numara = 10\n",
    "    return numara * rakam"
   ]
  },
  {
   "cell_type": "code",
   "execution_count": 2,
   "id": "ccea4e19",
   "metadata": {},
   "outputs": [
    {
     "data": {
      "text/plain": [
       "50"
      ]
     },
     "execution_count": 2,
     "metadata": {},
     "output_type": "execute_result"
    }
   ],
   "source": [
    "carpma(5)"
   ]
  },
  {
   "cell_type": "code",
   "execution_count": 3,
   "id": "822881ca",
   "metadata": {},
   "outputs": [
    {
     "name": "stdout",
     "output_type": "stream",
     "text": [
      "20\n"
     ]
    }
   ],
   "source": [
    "print(numara) # 20 vermesinin nedeni local, enclosing, global, built-in deniyor"
   ]
  },
  {
   "cell_type": "markdown",
   "id": "419cb0e4",
   "metadata": {},
   "source": [
    "## Local, Enclosing, Global, Built-In"
   ]
  },
  {
   "cell_type": "code",
   "execution_count": 4,
   "id": "7901e757",
   "metadata": {},
   "outputs": [],
   "source": [
    "# bazı kaynaklarda LEGB de deniyormuş"
   ]
  },
  {
   "cell_type": "code",
   "execution_count": 5,
   "id": "981c07f1",
   "metadata": {},
   "outputs": [],
   "source": [
    "benimAdim = \"Enes\"\n",
    "#global\n",
    "def benimFonksiyonum():\n",
    "    benimAdim = \"tigin\"\n",
    "    #enclosing\n",
    "    def icFonksiyon():\n",
    "        benimAdim = \"alpagut\"\n",
    "        # local\n",
    "        print(benimAdim)\n",
    "    icFonksiyon()"
   ]
  },
  {
   "cell_type": "code",
   "execution_count": 6,
   "id": "60104a07",
   "metadata": {},
   "outputs": [
    {
     "name": "stdout",
     "output_type": "stream",
     "text": [
      "alpagut\n"
     ]
    }
   ],
   "source": [
    "benimFonksiyonum()"
   ]
  },
  {
   "cell_type": "code",
   "execution_count": 7,
   "id": "745b114d",
   "metadata": {},
   "outputs": [
    {
     "name": "stdout",
     "output_type": "stream",
     "text": [
      "Enes\n"
     ]
    }
   ],
   "source": [
    "print(benimAdim)"
   ]
  },
  {
   "cell_type": "code",
   "execution_count": 8,
   "id": "9af10cfa",
   "metadata": {},
   "outputs": [],
   "source": [
    "# eğer iç fonksiyonda yazılı bir benim adım parametresi olmasaydı enclosing e bakacaktı\n",
    "# eğer orada da olmasaydı global e bakacaktı eğer orada da olmasaydı built in de var mı\n",
    "# diye oraya bakacaktı, orada da yoksa hata verecekti"
   ]
  },
  {
   "cell_type": "code",
   "execution_count": 9,
   "id": "7ba8c21f",
   "metadata": {},
   "outputs": [],
   "source": [
    "kisi = 18\n",
    "def yeniFonksiyon(kisi):\n",
    "    print(kisi)\n",
    "    kisi = 20\n",
    "    print(kisi)\n",
    "    return kisi"
   ]
  },
  {
   "cell_type": "code",
   "execution_count": 10,
   "id": "87b19804",
   "metadata": {},
   "outputs": [
    {
     "name": "stdout",
     "output_type": "stream",
     "text": [
      "21\n",
      "20\n"
     ]
    },
    {
     "data": {
      "text/plain": [
       "20"
      ]
     },
     "execution_count": 10,
     "metadata": {},
     "output_type": "execute_result"
    }
   ],
   "source": [
    "yeniFonksiyon(21)"
   ]
  },
  {
   "cell_type": "code",
   "execution_count": 11,
   "id": "904b1458",
   "metadata": {},
   "outputs": [],
   "source": [
    "# burada mesela global e bakmadı verileni yazdırdı sonra en son olanı döndürdü"
   ]
  },
  {
   "cell_type": "code",
   "execution_count": 12,
   "id": "71c3cdb5",
   "metadata": {},
   "outputs": [
    {
     "data": {
      "text/plain": [
       "18"
      ]
     },
     "execution_count": 12,
     "metadata": {},
     "output_type": "execute_result"
    }
   ],
   "source": [
    "kisi #diye çağıracak olursak globaldekini getirecek"
   ]
  },
  {
   "cell_type": "code",
   "execution_count": 13,
   "id": "498b05cf",
   "metadata": {},
   "outputs": [],
   "source": [
    "# eğer fonksiyoniçindeki işlemler global i etkilesin istiyorsak:\n",
    "m = 26\n",
    "def ornekFonksiyon():\n",
    "    global m\n",
    "    m = 5\n",
    "    print(m)"
   ]
  },
  {
   "cell_type": "code",
   "execution_count": 14,
   "id": "82e2258f",
   "metadata": {},
   "outputs": [
    {
     "name": "stdout",
     "output_type": "stream",
     "text": [
      "5\n"
     ]
    }
   ],
   "source": [
    "ornekFonksiyon()"
   ]
  },
  {
   "cell_type": "code",
   "execution_count": 15,
   "id": "ff83c411",
   "metadata": {},
   "outputs": [
    {
     "data": {
      "text/plain": [
       "5"
      ]
     },
     "execution_count": 15,
     "metadata": {},
     "output_type": "execute_result"
    }
   ],
   "source": [
    "m"
   ]
  },
  {
   "cell_type": "code",
   "execution_count": null,
   "id": "f79501fb",
   "metadata": {},
   "outputs": [],
   "source": []
  }
 ],
 "metadata": {
  "kernelspec": {
   "display_name": "Python 3 (ipykernel)",
   "language": "python",
   "name": "python3"
  },
  "language_info": {
   "codemirror_mode": {
    "name": "ipython",
    "version": 3
   },
   "file_extension": ".py",
   "mimetype": "text/x-python",
   "name": "python",
   "nbconvert_exporter": "python",
   "pygments_lexer": "ipython3",
   "version": "3.9.12"
  }
 },
 "nbformat": 4,
 "nbformat_minor": 5
}
