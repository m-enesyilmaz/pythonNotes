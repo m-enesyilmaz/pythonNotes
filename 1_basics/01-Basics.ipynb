{
 "cells": [
  {
   "cell_type": "markdown",
   "id": "259ec721",
   "metadata": {},
   "source": [
    "Markdown kullanarak burada not alabiliriz."
   ]
  },
  {
   "cell_type": "markdown",
   "id": "de429490",
   "metadata": {},
   "source": [
    "shift enter yaptığımızda o hücreyi çalıştırıp diğer hücreye geçiyor"
   ]
  },
  {
   "cell_type": "code",
   "execution_count": 1,
   "id": "a584c903",
   "metadata": {},
   "outputs": [
    {
     "data": {
      "text/plain": [
       "int"
      ]
     },
     "execution_count": 1,
     "metadata": {},
     "output_type": "execute_result"
    }
   ],
   "source": [
    "degisken = 10\n",
    "degisken2 = 100\n",
    "toplam1 = degisken + degisken2\n",
    "type(toplam1)"
   ]
  },
  {
   "cell_type": "code",
   "execution_count": 2,
   "id": "24233eee",
   "metadata": {},
   "outputs": [
    {
     "data": {
      "text/plain": [
       "10000"
      ]
     },
     "execution_count": 2,
     "metadata": {},
     "output_type": "execute_result"
    }
   ],
   "source": [
    "x = 10\n",
    "x ** 4 # demek aslında x in dördüncü dereceden kuvvetini al demek oluyor\n"
   ]
  },
  {
   "cell_type": "code",
   "execution_count": 3,
   "id": "45984717",
   "metadata": {},
   "outputs": [
    {
     "data": {
      "text/plain": [
       "1"
      ]
     },
     "execution_count": 3,
     "metadata": {},
     "output_type": "execute_result"
    }
   ],
   "source": [
    "# Reminder -kalanını bulma\n",
    "10%3 # kalanını bulmak için kullanıyoruz."
   ]
  },
  {
   "cell_type": "code",
   "execution_count": 4,
   "id": "bf3d0bfc",
   "metadata": {},
   "outputs": [
    {
     "name": "stdout",
     "output_type": "stream",
     "text": [
      "yasinizi giriniz: 26\n"
     ]
    }
   ],
   "source": [
    "a = input(\"yasinizi giriniz: \")"
   ]
  },
  {
   "cell_type": "code",
   "execution_count": 5,
   "id": "529fc0e3",
   "metadata": {},
   "outputs": [
    {
     "data": {
      "text/plain": [
       "str"
      ]
     },
     "execution_count": 5,
     "metadata": {},
     "output_type": "execute_result"
    }
   ],
   "source": [
    "type(a) #burada da göreceğimiz gibi input un girdisi string oluyor"
   ]
  },
  {
   "cell_type": "code",
   "execution_count": 6,
   "id": "22f7c1db",
   "metadata": {},
   "outputs": [
    {
     "data": {
      "text/plain": [
       "'26'"
      ]
     },
     "execution_count": 6,
     "metadata": {},
     "output_type": "execute_result"
    }
   ],
   "source": [
    "a"
   ]
  },
  {
   "cell_type": "code",
   "execution_count": 7,
   "id": "76eb620b",
   "metadata": {},
   "outputs": [],
   "source": [
    "y = \"yeni string\""
   ]
  },
  {
   "cell_type": "code",
   "execution_count": 8,
   "id": "29a086eb",
   "metadata": {},
   "outputs": [
    {
     "data": {
      "text/plain": [
       "['yeni', 'string']"
      ]
     },
     "execution_count": 8,
     "metadata": {},
     "output_type": "execute_result"
    }
   ],
   "source": [
    "y.split()"
   ]
  },
  {
   "cell_type": "markdown",
   "id": "5a860d45",
   "metadata": {},
   "source": [
    "z = \"diger string\"\n",
    "y + z"
   ]
  },
  {
   "cell_type": "code",
   "execution_count": 9,
   "id": "ae039aca",
   "metadata": {},
   "outputs": [
    {
     "name": "stdout",
     "output_type": "stream",
     "text": [
      "26\n"
     ]
    },
    {
     "data": {
      "text/plain": [
       "int"
      ]
     },
     "execution_count": 9,
     "metadata": {},
     "output_type": "execute_result"
    }
   ],
   "source": [
    "integerYapma = int(a)\n",
    "print(integerYapma)\n",
    "type(integerYapma)"
   ]
  },
  {
   "cell_type": "code",
   "execution_count": 10,
   "id": "0a42224e",
   "metadata": {},
   "outputs": [
    {
     "data": {
      "text/plain": [
       "11"
      ]
     },
     "execution_count": 10,
     "metadata": {},
     "output_type": "execute_result"
    }
   ],
   "source": [
    "len(y) # uzunluğunu gösteriyor"
   ]
  },
  {
   "cell_type": "markdown",
   "id": "ae0175fb",
   "metadata": {},
   "source": [
    "## Başlık yapmak için iki # koyuyoruz markdown'da"
   ]
  },
  {
   "cell_type": "code",
   "execution_count": 11,
   "id": "04059f19",
   "metadata": {},
   "outputs": [
    {
     "data": {
      "text/plain": [
       "'k'"
      ]
     },
     "execution_count": 11,
     "metadata": {},
     "output_type": "execute_result"
    }
   ],
   "source": [
    "h = \"string yazdık\"\n",
    "h[-1] #dersek eğer o string imizdeki son elemanı getir demiş oluyoruz"
   ]
  },
  {
   "cell_type": "code",
   "execution_count": 12,
   "id": "1dfdfc4b",
   "metadata": {},
   "outputs": [],
   "source": [
    "yeniString = \"0123456789\""
   ]
  },
  {
   "cell_type": "code",
   "execution_count": 13,
   "id": "89dd7c69",
   "metadata": {},
   "outputs": [
    {
     "data": {
      "text/plain": [
       "'23456789'"
      ]
     },
     "execution_count": 13,
     "metadata": {},
     "output_type": "execute_result"
    }
   ],
   "source": [
    "yeniString[2:] # ikinci elemandan başla gerisini al"
   ]
  },
  {
   "cell_type": "code",
   "execution_count": 14,
   "id": "0df674b2",
   "metadata": {},
   "outputs": [
    {
     "data": {
      "text/plain": [
       "'asd'"
      ]
     },
     "execution_count": 14,
     "metadata": {},
     "output_type": "execute_result"
    }
   ],
   "source": [
    "harfString = \"asdasdasd\"\n",
    "harfString[:3]\n",
    "# bu yapılan işleme de slicing deniyor"
   ]
  },
  {
   "cell_type": "markdown",
   "id": "3a7655a6",
   "metadata": {},
   "source": [
    "## slicing"
   ]
  },
  {
   "cell_type": "code",
   "execution_count": 15,
   "id": "b3ae4659",
   "metadata": {},
   "outputs": [
    {
     "data": {
      "text/plain": [
       "'89'"
      ]
     },
     "execution_count": 15,
     "metadata": {},
     "output_type": "execute_result"
    }
   ],
   "source": [
    "yeniString[-2:]"
   ]
  },
  {
   "cell_type": "code",
   "execution_count": 16,
   "id": "c18011f0",
   "metadata": {},
   "outputs": [
    {
     "data": {
      "text/plain": [
       "'das'"
      ]
     },
     "execution_count": 16,
     "metadata": {},
     "output_type": "execute_result"
    }
   ],
   "source": [
    "harfString[2:5]"
   ]
  },
  {
   "cell_type": "code",
   "execution_count": 17,
   "id": "926d0d0b",
   "metadata": {},
   "outputs": [
    {
     "data": {
      "text/plain": [
       "'uaao'"
      ]
     },
     "execution_count": 17,
     "metadata": {},
     "output_type": "execute_result"
    }
   ],
   "source": [
    "# step size\n",
    "gelenVeri = \"burayaBoyleBirVeriGeliyor\"\n",
    "gelenVeri[1:9:2] # 1. elemandan başla 9. elemana kadar git 2 şer git"
   ]
  },
  {
   "cell_type": "code",
   "execution_count": 18,
   "id": "a1e8710e",
   "metadata": {},
   "outputs": [
    {
     "data": {
      "text/plain": [
       "'royileGireVriBelyoBayarub'"
      ]
     },
     "execution_count": 18,
     "metadata": {},
     "output_type": "execute_result"
    }
   ],
   "source": [
    "#step size ı -1 verirsek tersten yazdırır\n",
    "gelenVeri[::-1]"
   ]
  },
  {
   "cell_type": "code",
   "execution_count": 19,
   "id": "2eb36752",
   "metadata": {},
   "outputs": [],
   "source": [
    "benimIsmim = \"m.enes\""
   ]
  },
  {
   "cell_type": "code",
   "execution_count": 20,
   "id": "765db4c0",
   "metadata": {},
   "outputs": [
    {
     "data": {
      "text/plain": [
       "'M.enes'"
      ]
     },
     "execution_count": 20,
     "metadata": {},
     "output_type": "execute_result"
    }
   ],
   "source": [
    "yeniIsmım = benimIsmim.capitalize() #baş harfi büyütüyor\n",
    "yeniIsmım"
   ]
  },
  {
   "cell_type": "code",
   "execution_count": 21,
   "id": "2333b730",
   "metadata": {},
   "outputs": [
    {
     "name": "stdout",
     "output_type": "stream",
     "text": [
      "['Muhammed', 'Enes', 'Yılmaz']\n"
     ]
    },
    {
     "data": {
      "text/plain": [
       "str"
      ]
     },
     "execution_count": 21,
     "metadata": {},
     "output_type": "execute_result"
    }
   ],
   "source": [
    "tamIsmım = \"Muhammed Enes Yılmaz\"\n",
    "isim = tamIsmım.split()\n",
    "print(isim)\n",
    "type(tamIsmım)"
   ]
  },
  {
   "cell_type": "markdown",
   "id": "d3a903c3",
   "metadata": {},
   "source": [
    "## Listeler"
   ]
  },
  {
   "cell_type": "code",
   "execution_count": 22,
   "id": "fda11d91",
   "metadata": {},
   "outputs": [],
   "source": [
    "# listeler ile stringler arasındaki temel fark değiştirilebilme durumları\n",
    "# bunlara da immutability & mutable deniliyor"
   ]
  },
  {
   "cell_type": "code",
   "execution_count": 23,
   "id": "2cd03dae",
   "metadata": {},
   "outputs": [
    {
     "ename": "TypeError",
     "evalue": "'str' object does not support item assignment",
     "output_type": "error",
     "traceback": [
      "\u001b[1;31m---------------------------------------------------------------------------\u001b[0m",
      "\u001b[1;31mTypeError\u001b[0m                                 Traceback (most recent call last)",
      "Input \u001b[1;32mIn [23]\u001b[0m, in \u001b[0;36m<cell line: 1>\u001b[1;34m()\u001b[0m\n\u001b[1;32m----> 1\u001b[0m tamIsmım[\u001b[38;5;241m0\u001b[39m] \u001b[38;5;241m=\u001b[39m \u001b[38;5;124m\"\u001b[39m\u001b[38;5;124mŞ\u001b[39m\u001b[38;5;124m\"\u001b[39m\n",
      "\u001b[1;31mTypeError\u001b[0m: 'str' object does not support item assignment"
     ]
    }
   ],
   "source": [
    "tamIsmım[0] = \"Ş\" # dersek hata verecektir"
   ]
  },
  {
   "cell_type": "code",
   "execution_count": 24,
   "id": "ac194b53",
   "metadata": {},
   "outputs": [
    {
     "data": {
      "text/plain": [
       "list"
      ]
     },
     "execution_count": 24,
     "metadata": {},
     "output_type": "execute_result"
    }
   ],
   "source": [
    "benimListem = [12,41,51,26,\"yazı\",\"str\"]\n",
    "type(benimListem)"
   ]
  },
  {
   "cell_type": "code",
   "execution_count": 25,
   "id": "91f617bd",
   "metadata": {},
   "outputs": [
    {
     "data": {
      "text/plain": [
       "[12, 41, 51, 26, 'yazı', 'str', 'yazı ekleme yapıyoruz sonuna']"
      ]
     },
     "execution_count": 25,
     "metadata": {},
     "output_type": "execute_result"
    }
   ],
   "source": [
    "benimListem.append(\"yazı ekleme yapıyoruz sonuna\")\n",
    "benimListem"
   ]
  },
  {
   "cell_type": "code",
   "execution_count": 26,
   "id": "5ca69337",
   "metadata": {},
   "outputs": [],
   "source": [
    "# buradaki tiplere listelere koleksiyon deniyor"
   ]
  },
  {
   "cell_type": "code",
   "execution_count": 27,
   "id": "33419bf6",
   "metadata": {},
   "outputs": [
    {
     "data": {
      "text/plain": [
       "'yazı ekleme yapıyoruz sonuna'"
      ]
     },
     "execution_count": 27,
     "metadata": {},
     "output_type": "execute_result"
    }
   ],
   "source": [
    "benimListem.pop() # dersek son elemano atıyor"
   ]
  },
  {
   "cell_type": "code",
   "execution_count": 28,
   "id": "bd6ec19a",
   "metadata": {},
   "outputs": [
    {
     "data": {
      "text/plain": [
       "[12, 41, 51, 26, 'yazı', 'str']"
      ]
     },
     "execution_count": 28,
     "metadata": {},
     "output_type": "execute_result"
    }
   ],
   "source": [
    "benimListem"
   ]
  },
  {
   "cell_type": "code",
   "execution_count": 29,
   "id": "16e17981",
   "metadata": {},
   "outputs": [
    {
     "data": {
      "text/plain": [
       "1"
      ]
     },
     "execution_count": 29,
     "metadata": {},
     "output_type": "execute_result"
    }
   ],
   "source": [
    "# .count komutu o listede kaç tane parantez içinde yazılandan var demek oluyor\n",
    "benimListem.count(41)"
   ]
  },
  {
   "cell_type": "code",
   "execution_count": 30,
   "id": "e7caae70",
   "metadata": {},
   "outputs": [],
   "source": [
    "nestedList = [1,5,\"enes\",4,[6,\"z\"]] # listenin içine liste koyuyoruz"
   ]
  },
  {
   "cell_type": "markdown",
   "id": "7148d348",
   "metadata": {},
   "source": [
    "## burada listede arama öğreniyoruz"
   ]
  },
  {
   "cell_type": "code",
   "execution_count": 31,
   "id": "eea4e2b6",
   "metadata": {},
   "outputs": [],
   "source": [
    "karmasikListe = [[1,2,3,[\"a\",\"b\"],50],40,20,[\"z\",5,5],[3,[\"a\"]]]"
   ]
  },
  {
   "cell_type": "code",
   "execution_count": 32,
   "id": "87c2ec8e",
   "metadata": {},
   "outputs": [
    {
     "data": {
      "text/plain": [
       "'a'"
      ]
     },
     "execution_count": 32,
     "metadata": {},
     "output_type": "execute_result"
    }
   ],
   "source": [
    "# örneğin burada böyle karmaşıkbir liste var biz listemizin içindeki listeden\n",
    "# \"a\" elemanını almak istiyoruz ve bunu tek satırda yapmak istiyoruz:\n",
    "karmasikListe[0][3][0] # dersek istediğimiz elemana ulaşmış oluruz."
   ]
  },
  {
   "cell_type": "code",
   "execution_count": 33,
   "id": "c7d2145f",
   "metadata": {},
   "outputs": [],
   "source": [
    "# [:] --> starting stoping mantığı listeler içerisinde dönüyor."
   ]
  },
  {
   "cell_type": "markdown",
   "id": "78fc60ef",
   "metadata": {},
   "source": [
    "## Sözlükler "
   ]
  },
  {
   "cell_type": "code",
   "execution_count": 34,
   "id": "44d07c32",
   "metadata": {},
   "outputs": [],
   "source": [
    "# diğer klaösrden devam edeceğiz"
   ]
  },
  {
   "cell_type": "code",
   "execution_count": null,
   "id": "fddb1cac",
   "metadata": {},
   "outputs": [],
   "source": []
  }
 ],
 "metadata": {
  "kernelspec": {
   "display_name": "Python 3 (ipykernel)",
   "language": "python",
   "name": "python3"
  },
  "language_info": {
   "codemirror_mode": {
    "name": "ipython",
    "version": 3
   },
   "file_extension": ".py",
   "mimetype": "text/x-python",
   "name": "python",
   "nbconvert_exporter": "python",
   "pygments_lexer": "ipython3",
   "version": "3.9.12"
  }
 },
 "nbformat": 4,
 "nbformat_minor": 5
}
