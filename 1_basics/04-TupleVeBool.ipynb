{
 "cells": [
  {
   "cell_type": "markdown",
   "id": "66bda46f",
   "metadata": {},
   "source": [
    "tuple listelerde immutability özelliği yani değiştirilemez özelliği yeniden gündeme geliyor."
   ]
  },
  {
   "cell_type": "code",
   "execution_count": 1,
   "id": "0090300d",
   "metadata": {},
   "outputs": [],
   "source": [
    "listem = [1,2,\"a\",4.5]"
   ]
  },
  {
   "cell_type": "code",
   "execution_count": 2,
   "id": "92af16f0",
   "metadata": {},
   "outputs": [],
   "source": [
    "listem[0] = 100"
   ]
  },
  {
   "cell_type": "code",
   "execution_count": 3,
   "id": "68d72197",
   "metadata": {},
   "outputs": [
    {
     "data": {
      "text/plain": [
       "[100, 2, 'a', 4.5]"
      ]
     },
     "execution_count": 3,
     "metadata": {},
     "output_type": "execute_result"
    }
   ],
   "source": [
    "listem"
   ]
  },
  {
   "cell_type": "code",
   "execution_count": 4,
   "id": "372bb833",
   "metadata": {},
   "outputs": [],
   "source": [
    "benimTuple = (1,2,\"a\",4.5)"
   ]
  },
  {
   "cell_type": "code",
   "execution_count": 5,
   "id": "ddd441df",
   "metadata": {},
   "outputs": [
    {
     "ename": "TypeError",
     "evalue": "'tuple' object does not support item assignment",
     "output_type": "error",
     "traceback": [
      "\u001b[1;31m---------------------------------------------------------------------------\u001b[0m",
      "\u001b[1;31mTypeError\u001b[0m                                 Traceback (most recent call last)",
      "Input \u001b[1;32mIn [5]\u001b[0m, in \u001b[0;36m<cell line: 1>\u001b[1;34m()\u001b[0m\n\u001b[1;32m----> 1\u001b[0m benimTuple[\u001b[38;5;241m0\u001b[39m] \u001b[38;5;241m=\u001b[39m \u001b[38;5;124m\"\u001b[39m\u001b[38;5;124mb\u001b[39m\u001b[38;5;124m\"\u001b[39m\n",
      "\u001b[1;31mTypeError\u001b[0m: 'tuple' object does not support item assignment"
     ]
    }
   ],
   "source": [
    "benimTuple[0] = \"b\""
   ]
  },
  {
   "cell_type": "code",
   "execution_count": 6,
   "id": "310347e6",
   "metadata": {},
   "outputs": [],
   "source": [
    "# tuple olduğu için bunu gerçekleştiremeyecek"
   ]
  },
  {
   "cell_type": "code",
   "execution_count": 7,
   "id": "a27a2367",
   "metadata": {},
   "outputs": [],
   "source": [
    "# tuple kullanmamızın temel sebebi:\n",
    "# dışardan aldığımız bir kod tuple kullandıysa "
   ]
  },
  {
   "cell_type": "markdown",
   "id": "6686f1f1",
   "metadata": {},
   "source": [
    "## Boolean"
   ]
  },
  {
   "cell_type": "code",
   "execution_count": 8,
   "id": "dd7bd786",
   "metadata": {},
   "outputs": [
    {
     "data": {
      "text/plain": [
       "bool"
      ]
     },
     "execution_count": 8,
     "metadata": {},
     "output_type": "execute_result"
    }
   ],
   "source": [
    "benimBoolean = True\n",
    "type(benimBoolean)"
   ]
  },
  {
   "cell_type": "code",
   "execution_count": 9,
   "id": "3526d34c",
   "metadata": {},
   "outputs": [],
   "source": [
    "# boolean ı kullanmamızın temel nedeni karşılaştırmalar aslında:\n",
    "# bu buna eşitmi bu bundan büyük mü gibi gibi karşılaştırma ifadelerinde boolean kullanılıyor\n",
    "# örneğin:"
   ]
  },
  {
   "cell_type": "code",
   "execution_count": 10,
   "id": "087b0a9b",
   "metadata": {},
   "outputs": [],
   "source": [
    "listem = [5000, 10000, 15000, 50000, 100000]"
   ]
  },
  {
   "cell_type": "code",
   "execution_count": 11,
   "id": "0c8d2ed3",
   "metadata": {},
   "outputs": [
    {
     "data": {
      "text/plain": [
       "5"
      ]
     },
     "execution_count": 11,
     "metadata": {},
     "output_type": "execute_result"
    }
   ],
   "source": [
    "len(listem)"
   ]
  },
  {
   "cell_type": "code",
   "execution_count": 12,
   "id": "95ed3c3e",
   "metadata": {},
   "outputs": [
    {
     "data": {
      "text/plain": [
       "180000"
      ]
     },
     "execution_count": 12,
     "metadata": {},
     "output_type": "execute_result"
    }
   ],
   "source": [
    "sum(listem)"
   ]
  },
  {
   "cell_type": "code",
   "execution_count": 13,
   "id": "f83d6319",
   "metadata": {},
   "outputs": [],
   "source": [
    "ortalama = sum(listem) / len(listem)"
   ]
  },
  {
   "cell_type": "code",
   "execution_count": 14,
   "id": "a5225228",
   "metadata": {},
   "outputs": [
    {
     "data": {
      "text/plain": [
       "36000.0"
      ]
     },
     "execution_count": 14,
     "metadata": {},
     "output_type": "execute_result"
    }
   ],
   "source": [
    "ortalama"
   ]
  },
  {
   "cell_type": "code",
   "execution_count": 15,
   "id": "d97f0a13",
   "metadata": {},
   "outputs": [
    {
     "name": "stdout",
     "output_type": "stream",
     "text": [
      "maas bilgisini giriniz: 120000000\n"
     ]
    }
   ],
   "source": [
    "kullaniciMaas = int(input(\"maas bilgisini giriniz: \"))"
   ]
  },
  {
   "cell_type": "code",
   "execution_count": 16,
   "id": "00becd21",
   "metadata": {},
   "outputs": [
    {
     "data": {
      "text/plain": [
       "True"
      ]
     },
     "execution_count": 16,
     "metadata": {},
     "output_type": "execute_result"
    }
   ],
   "source": [
    "kullaniciMaas > ortalama"
   ]
  },
  {
   "cell_type": "markdown",
   "id": "c4488e9e",
   "metadata": {},
   "source": [
    "### karşılaştırmalar"
   ]
  },
  {
   "cell_type": "code",
   "execution_count": 17,
   "id": "6cc7291e",
   "metadata": {},
   "outputs": [],
   "source": [
    "# > < <= >= == !="
   ]
  },
  {
   "cell_type": "code",
   "execution_count": 18,
   "id": "5e9831f1",
   "metadata": {},
   "outputs": [],
   "source": [
    "# and or"
   ]
  },
  {
   "cell_type": "code",
   "execution_count": 19,
   "id": "686dface",
   "metadata": {},
   "outputs": [
    {
     "data": {
      "text/plain": [
       "True"
      ]
     },
     "execution_count": 19,
     "metadata": {},
     "output_type": "execute_result"
    }
   ],
   "source": [
    "3>1 and 3>2"
   ]
  },
  {
   "cell_type": "code",
   "execution_count": 20,
   "id": "4afe41e5",
   "metadata": {},
   "outputs": [
    {
     "data": {
      "text/plain": [
       "True"
      ]
     },
     "execution_count": 20,
     "metadata": {},
     "output_type": "execute_result"
    }
   ],
   "source": [
    "45<65 or 112<1"
   ]
  },
  {
   "cell_type": "code",
   "execution_count": 21,
   "id": "da162018",
   "metadata": {},
   "outputs": [
    {
     "data": {
      "text/plain": [
       "False"
      ]
     },
     "execution_count": 21,
     "metadata": {},
     "output_type": "execute_result"
    }
   ],
   "source": [
    "#not\n",
    "not 5 == 5"
   ]
  },
  {
   "cell_type": "code",
   "execution_count": 22,
   "id": "0038e647",
   "metadata": {},
   "outputs": [
    {
     "data": {
      "text/plain": [
       "True"
      ]
     },
     "execution_count": 22,
     "metadata": {},
     "output_type": "execute_result"
    }
   ],
   "source": [
    "not 5 == 4"
   ]
  },
  {
   "cell_type": "code",
   "execution_count": null,
   "id": "92950c79",
   "metadata": {},
   "outputs": [],
   "source": []
  }
 ],
 "metadata": {
  "kernelspec": {
   "display_name": "Python 3 (ipykernel)",
   "language": "python",
   "name": "python3"
  },
  "language_info": {
   "codemirror_mode": {
    "name": "ipython",
    "version": 3
   },
   "file_extension": ".py",
   "mimetype": "text/x-python",
   "name": "python",
   "nbconvert_exporter": "python",
   "pygments_lexer": "ipython3",
   "version": "3.9.12"
  }
 },
 "nbformat": 4,
 "nbformat_minor": 5
}
