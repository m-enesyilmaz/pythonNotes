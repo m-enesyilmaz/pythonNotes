{
 "cells": [
  {
   "cell_type": "code",
   "execution_count": 1,
   "id": "edd0a524",
   "metadata": {},
   "outputs": [
    {
     "name": "stdout",
     "output_type": "stream",
     "text": [
      "muhammed enes yılmaz\n"
     ]
    }
   ],
   "source": [
    "if 3 > 1:\n",
    "    print(\"muhammed enes yılmaz\")"
   ]
  },
  {
   "cell_type": "code",
   "execution_count": 2,
   "id": "272fcb1c",
   "metadata": {},
   "outputs": [
    {
     "name": "stdout",
     "output_type": "stream",
     "text": [
      "x, y'den büyükmüş\n"
     ]
    }
   ],
   "source": [
    "x = 3\n",
    "y = 4\n",
    "if x>y:\n",
    "    print(\"x, y'den büyükmüş\")\n",
    "elif y>x:\n",
    "    print(\"x, y'den büyükmüş\")\n",
    "else:\n",
    "    print(\"x ve y eşitmiş\")"
   ]
  },
  {
   "cell_type": "code",
   "execution_count": 3,
   "id": "5d370f0b",
   "metadata": {},
   "outputs": [
    {
     "name": "stdout",
     "output_type": "stream",
     "text": [
      "Super kahraman seciniz: baydırmen xd\n"
     ]
    }
   ],
   "source": [
    "kahramanSecimi = input(\"Super kahraman seciniz: \")"
   ]
  },
  {
   "cell_type": "code",
   "execution_count": 4,
   "id": "551e4fff",
   "metadata": {},
   "outputs": [
    {
     "name": "stdout",
     "output_type": "stream",
     "text": [
      "Bu kim gardaş la\n"
     ]
    }
   ],
   "source": [
    "if kahramanSecimi == \"Ironman\":\n",
    "    print(\"Ironman i seçtiniz tebrik ederiz.\")\n",
    "elif kahramanSecimi == \"Superman\":\n",
    "    print(\"Superman kim köpek\")\n",
    "elif kahramanSecimi == \"Batman\":\n",
    "    print(\"Batman babadan zengin zaten\")\n",
    "else:\n",
    "    print(\"Bu kim gardaş la\")"
   ]
  },
  {
   "cell_type": "code",
   "execution_count": 5,
   "id": "5312a018",
   "metadata": {},
   "outputs": [],
   "source": [
    "a = 10\n",
    "b = 20\n",
    "c = 30"
   ]
  },
  {
   "cell_type": "code",
   "execution_count": 6,
   "id": "e16ddc68",
   "metadata": {},
   "outputs": [
    {
     "name": "stdout",
     "output_type": "stream",
     "text": [
      "a, b'den küçük VE b c'den küçük\n"
     ]
    }
   ],
   "source": [
    "if a>b and b>c:\n",
    "    print(\"a, b'den büyük VE b de c'den büyük\")\n",
    "elif a<b and b<c:\n",
    "    print(\"a, b'den küçük VE b c'den küçük\")"
   ]
  },
  {
   "cell_type": "code",
   "execution_count": 7,
   "id": "d1dcfdd1",
   "metadata": {},
   "outputs": [],
   "source": [
    "karakterCanli = True"
   ]
  },
  {
   "cell_type": "code",
   "execution_count": 8,
   "id": "ebb7a8c6",
   "metadata": {},
   "outputs": [
    {
     "name": "stdout",
     "output_type": "stream",
     "text": [
      "oyun karakteriniz yaşıyor\n"
     ]
    }
   ],
   "source": [
    "if karakterCanli:\n",
    "    print(\"oyun karakteriniz yaşıyor\")\n",
    "else:\n",
    "    print(\"oyun karakteriniz yaşamıyor\")"
   ]
  },
  {
   "cell_type": "code",
   "execution_count": 9,
   "id": "eabf5348",
   "metadata": {},
   "outputs": [],
   "source": [
    "benimString = \"Muhammed Enes Yılmaz\""
   ]
  },
  {
   "cell_type": "code",
   "execution_count": 10,
   "id": "2759befa",
   "metadata": {},
   "outputs": [
    {
     "name": "stdout",
     "output_type": "stream",
     "text": [
      "eşit değilmiş\n"
     ]
    }
   ],
   "source": [
    "if benimString == \"muhammed enes yılmaz\":\n",
    "    print(\"eşitmiş\")\n",
    "else:\n",
    "    print(\"eşit değilmiş\")"
   ]
  },
  {
   "cell_type": "code",
   "execution_count": 11,
   "id": "eee8b37b",
   "metadata": {},
   "outputs": [
    {
     "name": "stdout",
     "output_type": "stream",
     "text": [
      "içinde varmış\n"
     ]
    }
   ],
   "source": [
    "if \"hammed\" in benimString:\n",
    "    print(\"içinde varmış\")\n",
    "else:\n",
    "    print(\"içinde yokmuş\")"
   ]
  },
  {
   "cell_type": "code",
   "execution_count": 12,
   "id": "5c79ac3c",
   "metadata": {},
   "outputs": [],
   "source": [
    "benimListem = [10,20,30]"
   ]
  },
  {
   "cell_type": "code",
   "execution_count": 13,
   "id": "b3dd7c10",
   "metadata": {},
   "outputs": [],
   "source": [
    "if 60 in benimListem:\n",
    "    print(\"varmış\")"
   ]
  },
  {
   "cell_type": "code",
   "execution_count": 14,
   "id": "71abc70a",
   "metadata": {},
   "outputs": [],
   "source": [
    "benimSozluk = {\"muz\": 100, \"elma\": 200, \"karpuz\": 400}"
   ]
  },
  {
   "cell_type": "code",
   "execution_count": 15,
   "id": "0001d172",
   "metadata": {},
   "outputs": [
    {
     "name": "stdout",
     "output_type": "stream",
     "text": [
      "100\n"
     ]
    }
   ],
   "source": [
    "if \"muz\" in benimSozluk.keys():\n",
    "    print(benimSozluk[\"muz\"])"
   ]
  },
  {
   "cell_type": "code",
   "execution_count": 16,
   "id": "c030bb75",
   "metadata": {},
   "outputs": [
    {
     "name": "stdout",
     "output_type": "stream",
     "text": [
      "400\n"
     ]
    }
   ],
   "source": [
    "if 400 in benimSozluk.values():\n",
    "    print(benimSozluk[\"karpuz\"])"
   ]
  },
  {
   "cell_type": "code",
   "execution_count": null,
   "id": "d6504022",
   "metadata": {},
   "outputs": [],
   "source": []
  }
 ],
 "metadata": {
  "kernelspec": {
   "display_name": "Python 3 (ipykernel)",
   "language": "python",
   "name": "python3"
  },
  "language_info": {
   "codemirror_mode": {
    "name": "ipython",
    "version": 3
   },
   "file_extension": ".py",
   "mimetype": "text/x-python",
   "name": "python",
   "nbconvert_exporter": "python",
   "pygments_lexer": "ipython3",
   "version": "3.9.12"
  }
 },
 "nbformat": 4,
 "nbformat_minor": 5
}
