{
 "cells": [
  {
   "cell_type": "code",
   "execution_count": 1,
   "id": "d1a936e0",
   "metadata": {},
   "outputs": [],
   "source": [
    "import numpy as np\n",
    "import pandas as pd"
   ]
  },
  {
   "cell_type": "markdown",
   "id": "3f50232f",
   "metadata": {},
   "source": [
    "## Series"
   ]
  },
  {
   "cell_type": "code",
   "execution_count": 2,
   "id": "643dd8c1",
   "metadata": {},
   "outputs": [],
   "source": [
    "benimSozlugum = {\"Enes\": 26, \"Furki\": 23, \"AliVeliDeli\": 85}"
   ]
  },
  {
   "cell_type": "code",
   "execution_count": 3,
   "id": "df4e3dd8",
   "metadata": {},
   "outputs": [
    {
     "data": {
      "text/plain": [
       "Enes           26\n",
       "Furki          23\n",
       "AliVeliDeli    85\n",
       "dtype: int64"
      ]
     },
     "execution_count": 3,
     "metadata": {},
     "output_type": "execute_result"
    }
   ],
   "source": [
    "pd.Series(benimSozlugum)"
   ]
  },
  {
   "cell_type": "code",
   "execution_count": 4,
   "id": "65a2a01a",
   "metadata": {},
   "outputs": [
    {
     "data": {
      "text/plain": [
       "pandas.core.series.Series"
      ]
     },
     "execution_count": 4,
     "metadata": {},
     "output_type": "execute_result"
    }
   ],
   "source": [
    "type(pd.Series(benimSozlugum))"
   ]
  },
  {
   "cell_type": "code",
   "execution_count": 5,
   "id": "08c44cad",
   "metadata": {},
   "outputs": [],
   "source": [
    "benimYaslarim = [26,23,85]\n",
    "benimIsimlerim = [\"Enes\", \"Furki\", \"AliVeliDeli\"]"
   ]
  },
  {
   "cell_type": "code",
   "execution_count": 6,
   "id": "19072af8",
   "metadata": {},
   "outputs": [
    {
     "data": {
      "text/plain": [
       "0    26\n",
       "1    23\n",
       "2    85\n",
       "dtype: int64"
      ]
     },
     "execution_count": 6,
     "metadata": {},
     "output_type": "execute_result"
    }
   ],
   "source": [
    "pd.Series(benimYaslarim)"
   ]
  },
  {
   "cell_type": "code",
   "execution_count": 7,
   "id": "629fbc1d",
   "metadata": {},
   "outputs": [
    {
     "data": {
      "text/plain": [
       "Enes           26\n",
       "Furki          23\n",
       "AliVeliDeli    85\n",
       "dtype: int64"
      ]
     },
     "execution_count": 7,
     "metadata": {},
     "output_type": "execute_result"
    }
   ],
   "source": [
    "pd.Series(benimYaslarim, benimIsimlerim)"
   ]
  },
  {
   "cell_type": "code",
   "execution_count": 8,
   "id": "e7420cfe",
   "metadata": {},
   "outputs": [
    {
     "data": {
      "text/plain": [
       "Enes           26\n",
       "Furki          23\n",
       "AliVeliDeli    85\n",
       "dtype: int64"
      ]
     },
     "execution_count": 8,
     "metadata": {},
     "output_type": "execute_result"
    }
   ],
   "source": [
    "pd.Series(data = benimYaslarim, index = benimIsimlerim) #aslında bu şekilde bir atama yapmış oluyoruz"
   ]
  },
  {
   "cell_type": "code",
   "execution_count": 9,
   "id": "6b745929",
   "metadata": {},
   "outputs": [
    {
     "data": {
      "text/plain": [
       "array([26, 23, 85])"
      ]
     },
     "execution_count": 9,
     "metadata": {},
     "output_type": "execute_result"
    }
   ],
   "source": [
    "numpyDizisi = np.array([26,23,85])\n",
    "numpyDizisi"
   ]
  },
  {
   "cell_type": "code",
   "execution_count": 10,
   "id": "45bbd35e",
   "metadata": {},
   "outputs": [
    {
     "data": {
      "text/plain": [
       "0    26\n",
       "1    23\n",
       "2    85\n",
       "dtype: int32"
      ]
     },
     "execution_count": 10,
     "metadata": {},
     "output_type": "execute_result"
    }
   ],
   "source": [
    "pd.Series(numpyDizisi)"
   ]
  },
  {
   "cell_type": "code",
   "execution_count": 11,
   "id": "5d2d2280",
   "metadata": {},
   "outputs": [
    {
     "data": {
      "text/plain": [
       "Enes           26\n",
       "Furki          23\n",
       "AliVeliDeli    85\n",
       "dtype: int32"
      ]
     },
     "execution_count": 11,
     "metadata": {},
     "output_type": "execute_result"
    }
   ],
   "source": [
    "pd.Series(numpyDizisi,benimIsimlerim)"
   ]
  },
  {
   "cell_type": "code",
   "execution_count": 12,
   "id": "c1c0272a",
   "metadata": {},
   "outputs": [
    {
     "data": {
      "text/plain": [
       "1    Muhammed\n",
       "2        Enes\n",
       "3      Yılmaz\n",
       "dtype: object"
      ]
     },
     "execution_count": 12,
     "metadata": {},
     "output_type": "execute_result"
    }
   ],
   "source": [
    "pd.Series([\"Muhammed\", \"Enes\", \"Yılmaz\"], [1,2,3]) # indexleri de değiştirdik"
   ]
  },
  {
   "cell_type": "code",
   "execution_count": 13,
   "id": "dbf029dd",
   "metadata": {},
   "outputs": [
    {
     "data": {
      "text/plain": [
       "Muhammed    10\n",
       "Enes         5\n",
       "Yılmaz       8\n",
       "dtype: int64"
      ]
     },
     "execution_count": 13,
     "metadata": {},
     "output_type": "execute_result"
    }
   ],
   "source": [
    "yarismaSonucu1 = pd.Series([10,5,8], [\"Muhammed\", \"Enes\", \"Yılmaz\"])\n",
    "yarismaSonucu1"
   ]
  },
  {
   "cell_type": "code",
   "execution_count": 14,
   "id": "d4af7169",
   "metadata": {},
   "outputs": [
    {
     "data": {
      "text/plain": [
       "Muhammed    20\n",
       "Enes        13\n",
       "Yılmaz      17\n",
       "dtype: int64"
      ]
     },
     "execution_count": 14,
     "metadata": {},
     "output_type": "execute_result"
    }
   ],
   "source": [
    "yarismaSonucu2 = pd.Series([20,13,17], [\"Muhammed\", \"Enes\", \"Yılmaz\"])\n",
    "yarismaSonucu2"
   ]
  },
  {
   "cell_type": "code",
   "execution_count": 15,
   "id": "b23cb3a3",
   "metadata": {},
   "outputs": [
    {
     "data": {
      "text/plain": [
       "13"
      ]
     },
     "execution_count": 15,
     "metadata": {},
     "output_type": "execute_result"
    }
   ],
   "source": [
    "yarismaSonucu2[\"Enes\"] # değeri aldık"
   ]
  },
  {
   "cell_type": "code",
   "execution_count": 16,
   "id": "6bb2eada",
   "metadata": {},
   "outputs": [
    {
     "data": {
      "text/plain": [
       "Muhammed    30\n",
       "Enes        18\n",
       "Yılmaz      25\n",
       "dtype: int64"
      ]
     },
     "execution_count": 16,
     "metadata": {},
     "output_type": "execute_result"
    }
   ],
   "source": [
    "sonSonuc = yarismaSonucu1 + yarismaSonucu2\n",
    "sonSonuc  # bu tarz kolaylıkları kullanabiliyoruz"
   ]
  },
  {
   "cell_type": "code",
   "execution_count": 17,
   "id": "8b24262c",
   "metadata": {},
   "outputs": [],
   "source": [
    "farkliSeries = pd.Series([14,152,62,3], [\"a\", \"b\", \"c\", \"d\"])\n",
    "farkliSeries2 = pd.Series([10,5,3,1], [\"a\", \"c\", \"f\", \"g\"])"
   ]
  },
  {
   "cell_type": "code",
   "execution_count": 18,
   "id": "4d229b67",
   "metadata": {},
   "outputs": [
    {
     "data": {
      "text/plain": [
       "a     14\n",
       "b    152\n",
       "c     62\n",
       "d      3\n",
       "dtype: int64"
      ]
     },
     "execution_count": 18,
     "metadata": {},
     "output_type": "execute_result"
    }
   ],
   "source": [
    "farkliSeries"
   ]
  },
  {
   "cell_type": "code",
   "execution_count": 19,
   "id": "24fefc94",
   "metadata": {},
   "outputs": [
    {
     "data": {
      "text/plain": [
       "a    10\n",
       "c     5\n",
       "f     3\n",
       "g     1\n",
       "dtype: int64"
      ]
     },
     "execution_count": 19,
     "metadata": {},
     "output_type": "execute_result"
    }
   ],
   "source": [
    "farkliSeries2"
   ]
  },
  {
   "cell_type": "code",
   "execution_count": 20,
   "id": "9c43b703",
   "metadata": {},
   "outputs": [
    {
     "data": {
      "text/plain": [
       "a    24.0\n",
       "b     NaN\n",
       "c    67.0\n",
       "d     NaN\n",
       "f     NaN\n",
       "g     NaN\n",
       "dtype: float64"
      ]
     },
     "execution_count": 20,
     "metadata": {},
     "output_type": "execute_result"
    }
   ],
   "source": [
    "sonucSeries = farkliSeries + farkliSeries2\n",
    "sonucSeries # her iki tarafta da kesişenleri topluyor"
   ]
  },
  {
   "cell_type": "code",
   "execution_count": null,
   "id": "aac79e93",
   "metadata": {},
   "outputs": [],
   "source": []
  }
 ],
 "metadata": {
  "kernelspec": {
   "display_name": "Python 3 (ipykernel)",
   "language": "python",
   "name": "python3"
  },
  "language_info": {
   "codemirror_mode": {
    "name": "ipython",
    "version": 3
   },
   "file_extension": ".py",
   "mimetype": "text/x-python",
   "name": "python",
   "nbconvert_exporter": "python",
   "pygments_lexer": "ipython3",
   "version": "3.9.7"
  }
 },
 "nbformat": 4,
 "nbformat_minor": 5
}
