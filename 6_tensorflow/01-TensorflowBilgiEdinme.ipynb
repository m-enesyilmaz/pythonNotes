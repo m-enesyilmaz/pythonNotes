{
 "cells": [
  {
   "cell_type": "markdown",
   "id": "2ba2671e",
   "metadata": {},
   "source": [
    "Tensorflow nedir?\n",
    "Google tarafından geliştirilen açık kaynak kodlu bir kütüphanedir. Standart bir kütüphaneden oldukça geniş kapsamlı ve oldukça ileri seviye bir araçtır."
   ]
  },
  {
   "cell_type": "markdown",
   "id": "e9ec2f02",
   "metadata": {},
   "source": [
    "    perceptron --> yapay nöron // girdi alıp çıktı veriyor"
   ]
  },
  {
   "cell_type": "markdown",
   "id": "da7cd44f",
   "metadata": {},
   "source": [
    "    activation function:"
   ]
  },
  {
   "cell_type": "raw",
   "id": "d4b6e1dd",
   "metadata": {},
   "source": [
    "--> sigmoid fonk.(genellikle sınıflandırma prob kullanılır)\n",
    "--> tanh (hiberbolik tanjant) negatif değerlerle daha geniş bir kapsam alanı sağlar ve genelde sınıflandırma operasyonlarında kullanılır.\n",
    "--> ReLU (rectified linear unit)  0 ile sonsuz arasında değer alıyor, derin öğrenme alanında sıklıkla karşımıza çıkıyor\n",
    "--> Linear Fonksiyonlar f(x)=x  // sonsuz değer alabilir fakat non-linaerr olmaması sebebiyle modellerde sorunlara yol açabilir\n",
    "--> daha fazlası için: https://en.wikipedia.org/wiki/Activation_function"
   ]
  },
  {
   "cell_type": "markdown",
   "id": "46f0708f",
   "metadata": {},
   "source": [
    "    regresyon"
   ]
  },
  {
   "cell_type": "markdown",
   "id": "a604957c",
   "metadata": {},
   "source": [
    "Francis Galton tarafından ortaya atılmış bir terim, ilk Y = a*x + b ile çalışılmış."
   ]
  },
  {
   "cell_type": "raw",
   "id": "91818eb0",
   "metadata": {},
   "source": [
    "Veri --> 1. Öğrenme Verisi (train set) -> Tahminler\n",
    "         2. Test Verisi (test set) --------|^\n",
    "         yaparak ne kadar öğrenmişiz ona bakacağız.\n",
    "Maliyet Fonksiyonu\n",
    "Öğrenme sürecinde bize yardımcı oluyor, gerçekten ne kadar uzaktayız ölçer\n",
    "z = a*g + b\n",
    "f(z)= tahminiDeger (nöron'un tahmini)\n",
    "Quadratic Maliyet = sum(gercekDeger - tahminiDeger)** 2 / n\n",
    "Cross Entropy Maliyet = (-1 / n) * sum(gercekDeger * ln(tahminiDeger) + (1-gercekDeger) * ln(1-tahminiDeger)"
   ]
  },
  {
   "cell_type": "markdown",
   "id": "88e766ab",
   "metadata": {},
   "source": [
    "    gradient descent"
   ]
  },
  {
   "cell_type": "raw",
   "id": "ffcfd835",
   "metadata": {},
   "source": [
    "--> Bir fonksiyonun minimumunu bulmak için kullandığımız optimizasyon fonksiyonu\n",
    "--> Maliyet foksiyonunu minimize etmek için kullanabiliriz\n",
    "--> Aşagı inerken ne kadar hızlı veya yavaş inebileceğimizi seçebiliriz (step size). Bu aslında öğrenme seviyemizle aynı anlama gelir. Minimuma hızlı ulaşmak için optimizasyonlar kullanabiliriz.\n",
    "--> Populer seçenekler:  RMSProp, Adam"
   ]
  },
  {
   "cell_type": "markdown",
   "id": "57f92378",
   "metadata": {},
   "source": [
    "örnek olarak görselleştirmek istersek: \n",
    "https://playground.tensorflow.org/#activation=tanh&batchSize=10&dataset=circle&regDataset=reg-plane&learningRate=0.03&regularizationRate=0&noise=0&networkShape=4,2&seed=0.06324&showTestData=false&discretize=false&percTrainData=50&x=true&y=true&xTimesY=false&xSquared=false&ySquared=false&cosX=false&sinX=false&cosY=false&sinY=false&collectStats=false&problem=classification&initZero=false&hideText=false"
   ]
  },
  {
   "cell_type": "raw",
   "id": "61316c77",
   "metadata": {},
   "source": [
    "batch size: verilen sıralı veri miktarı, öğrenme çökmesin diye hepsini bir anda vermiyoruz."
   ]
  },
  {
   "cell_type": "code",
   "execution_count": null,
   "id": "eeaf0344",
   "metadata": {},
   "outputs": [],
   "source": []
  }
 ],
 "metadata": {
  "kernelspec": {
   "display_name": "Python 3 (ipykernel)",
   "language": "python",
   "name": "python3"
  },
  "language_info": {
   "codemirror_mode": {
    "name": "ipython",
    "version": 3
   },
   "file_extension": ".py",
   "mimetype": "text/x-python",
   "name": "python",
   "nbconvert_exporter": "python",
   "pygments_lexer": "ipython3",
   "version": "3.9.7"
  }
 },
 "nbformat": 4,
 "nbformat_minor": 5
}
